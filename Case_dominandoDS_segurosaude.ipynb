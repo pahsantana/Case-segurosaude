{
  "nbformat": 4,
  "nbformat_minor": 0,
  "metadata": {
    "colab": {
      "name": "Case_dominandoDS_segurosaude.ipynb",
      "provenance": [],
      "authorship_tag": "ABX9TyM5RGsJu0Pe7cT2okDi0d78",
      "include_colab_link": true
    },
    "kernelspec": {
      "name": "python3",
      "display_name": "Python 3"
    }
  },
  "cells": [
    {
      "cell_type": "markdown",
      "metadata": {
        "id": "view-in-github",
        "colab_type": "text"
      },
      "source": [
        "<a href=\"https://colab.research.google.com/github/pahsantana/Case-segurosaude/blob/master/Case_dominandoDS_segurosaude.ipynb\" target=\"_parent\"><img src=\"https://colab.research.google.com/assets/colab-badge.svg\" alt=\"Open In Colab\"/></a>"
      ]
    },
    {
      "cell_type": "markdown",
      "metadata": {
        "id": "7hJSR5kg1P-p",
        "colab_type": "text"
      },
      "source": [
        "### **CASE:** Custos com despesas médicas (lucro)\n",
        "---\n",
        "\n",
        "Modelagem preditiva é uma opção para preservar despesas médicas, logo reduzindo os riscos de prejuízos. Contudo, custos médicos costumam ser difíceis de estimar, pois se tratam de eventos raros e aleatórios majoritamente.\n",
        "Algumas condições tendem a prevalecer para uma determinada característica de população, como por exemplo, o câncer de pulmão tem mais frequência em fumantes do que não fumantes.\n",
        "\n",
        "O case se trata de melhorar o planejamento financeiro.\n",
        "\n",
        "\n",
        "\n",
        "### **SUMÁRIO**\n",
        "---\n",
        "1.   Entendimento da problemática\n",
        "2.   Coleta de dados\n",
        "3.   Obter informações relevantes (EDA)\n",
        "4.   Preparar os dados para algoritmos de ML\n",
        "5. Selecionar e treinar um modelo\n",
        "\n",
        "\n",
        "### **1) OBJETIVOS**\n",
        "---\n",
        "\n",
        "Entender a natureza de dados\n",
        "Verificar quais são as variáveis necessárias para me ajudar e quais não serão (descarte)\n",
        "Preparar uma solução básica via heurística\n",
        "\n",
        "### **2) COLETA DE DADOS**\n",
        "---\n",
        "Os dados foram obtidos do livro \"Machine Learning with R de Brett Lantz\", disponível no Kaggle \n",
        "\n",
        "https://www.kaggle.com/mirichoi0218/insurance\n",
        "\n",
        "O arquivo insurance.csv inclui 1.330 exemplos de beneficiários atualmente inscritos em planos de seguro com recursos que indicam as características do paciente.\n",
        "\n",
        "Content\n",
        "---\n",
        "\n",
        "Columns \n",
        "\n",
        "age: age of primary beneficiary\n",
        "\n",
        "sex: insurance contractor gender, female, male\n",
        "\n",
        "bmi: Body mass index, providing an understanding of body, weights that are relatively high or low relative to height,\n",
        "objective index of body weight (kg / m ^ 2) using the ratio of height to weight, ideally 18.5 to 24.9\n",
        "\n",
        "children: Number of children covered by health insurance / Number of dependents\n",
        "\n",
        "smoker: Smoking\n",
        "\n",
        "region: the beneficiary's residential area in the US, northeast, southeast, southwest, northwest.\n",
        "\n",
        "charges: Individual medical costs billed by health insurance\n",
        "\n"
      ]
    },
    {
      "cell_type": "code",
      "metadata": {
        "id": "U1rTXV9gnWMg",
        "colab_type": "code",
        "colab": {}
      },
      "source": [
        "import pandas as pd\n",
        "import numpy as np"
      ],
      "execution_count": null,
      "outputs": []
    },
    {
      "cell_type": "code",
      "metadata": {
        "id": "2KdCDHCs5FzY",
        "colab_type": "code",
        "colab": {}
      },
      "source": [
        "link='https://raw.githubusercontent.com/ricardorocha86/Datasets/master/Custos%20M%C3%A9dicos/insurance.csv'\n",
        "inicial_data = pd.read_csv(link)\n",
        "data = inicial_data"
      ],
      "execution_count": null,
      "outputs": []
    },
    {
      "cell_type": "code",
      "metadata": {
        "id": "OcC-sKqS68TM",
        "colab_type": "code",
        "colab": {
          "base_uri": "https://localhost:8080/",
          "height": 195
        },
        "outputId": "2a99ed08-d770-493a-bf91-33610460ef1e"
      },
      "source": [
        "data.head()"
      ],
      "execution_count": null,
      "outputs": [
        {
          "output_type": "execute_result",
          "data": {
            "text/html": [
              "<div>\n",
              "<style scoped>\n",
              "    .dataframe tbody tr th:only-of-type {\n",
              "        vertical-align: middle;\n",
              "    }\n",
              "\n",
              "    .dataframe tbody tr th {\n",
              "        vertical-align: top;\n",
              "    }\n",
              "\n",
              "    .dataframe thead th {\n",
              "        text-align: right;\n",
              "    }\n",
              "</style>\n",
              "<table border=\"1\" class=\"dataframe\">\n",
              "  <thead>\n",
              "    <tr style=\"text-align: right;\">\n",
              "      <th></th>\n",
              "      <th>age</th>\n",
              "      <th>sex</th>\n",
              "      <th>bmi</th>\n",
              "      <th>children</th>\n",
              "      <th>smoker</th>\n",
              "      <th>region</th>\n",
              "      <th>charges</th>\n",
              "    </tr>\n",
              "  </thead>\n",
              "  <tbody>\n",
              "    <tr>\n",
              "      <th>0</th>\n",
              "      <td>19</td>\n",
              "      <td>female</td>\n",
              "      <td>27.900</td>\n",
              "      <td>0</td>\n",
              "      <td>yes</td>\n",
              "      <td>southwest</td>\n",
              "      <td>16884.92400</td>\n",
              "    </tr>\n",
              "    <tr>\n",
              "      <th>1</th>\n",
              "      <td>18</td>\n",
              "      <td>male</td>\n",
              "      <td>33.770</td>\n",
              "      <td>1</td>\n",
              "      <td>no</td>\n",
              "      <td>southeast</td>\n",
              "      <td>1725.55230</td>\n",
              "    </tr>\n",
              "    <tr>\n",
              "      <th>2</th>\n",
              "      <td>28</td>\n",
              "      <td>male</td>\n",
              "      <td>33.000</td>\n",
              "      <td>3</td>\n",
              "      <td>no</td>\n",
              "      <td>southeast</td>\n",
              "      <td>4449.46200</td>\n",
              "    </tr>\n",
              "    <tr>\n",
              "      <th>3</th>\n",
              "      <td>33</td>\n",
              "      <td>male</td>\n",
              "      <td>22.705</td>\n",
              "      <td>0</td>\n",
              "      <td>no</td>\n",
              "      <td>northwest</td>\n",
              "      <td>21984.47061</td>\n",
              "    </tr>\n",
              "    <tr>\n",
              "      <th>4</th>\n",
              "      <td>32</td>\n",
              "      <td>male</td>\n",
              "      <td>28.880</td>\n",
              "      <td>0</td>\n",
              "      <td>no</td>\n",
              "      <td>northwest</td>\n",
              "      <td>3866.85520</td>\n",
              "    </tr>\n",
              "  </tbody>\n",
              "</table>\n",
              "</div>"
            ],
            "text/plain": [
              "   age     sex     bmi  children smoker     region      charges\n",
              "0   19  female  27.900         0    yes  southwest  16884.92400\n",
              "1   18    male  33.770         1     no  southeast   1725.55230\n",
              "2   28    male  33.000         3     no  southeast   4449.46200\n",
              "3   33    male  22.705         0     no  northwest  21984.47061\n",
              "4   32    male  28.880         0     no  northwest   3866.85520"
            ]
          },
          "metadata": {
            "tags": []
          },
          "execution_count": 4
        }
      ]
    },
    {
      "cell_type": "markdown",
      "metadata": {
        "id": "vTSxETK88EDj",
        "colab_type": "text"
      },
      "source": [
        "**3) Obter informação (EDA)**\n",
        "\n",
        "Na Análise Exploratória de Dados(EDA) temos objetivos de obter informações sobre os dados. A primeira etapa seria identificar o tipo de cada variável."
      ]
    },
    {
      "cell_type": "code",
      "metadata": {
        "id": "cBxFfCmE7SkU",
        "colab_type": "code",
        "colab": {
          "base_uri": "https://localhost:8080/",
          "height": 252
        },
        "outputId": "aac67022-ed3e-4e0a-94f6-c23837dfbd99"
      },
      "source": [
        "data.info()"
      ],
      "execution_count": null,
      "outputs": [
        {
          "output_type": "stream",
          "text": [
            "<class 'pandas.core.frame.DataFrame'>\n",
            "RangeIndex: 1338 entries, 0 to 1337\n",
            "Data columns (total 7 columns):\n",
            " #   Column    Non-Null Count  Dtype  \n",
            "---  ------    --------------  -----  \n",
            " 0   age       1338 non-null   int64  \n",
            " 1   sex       1338 non-null   object \n",
            " 2   bmi       1338 non-null   float64\n",
            " 3   children  1338 non-null   int64  \n",
            " 4   smoker    1338 non-null   object \n",
            " 5   region    1338 non-null   object \n",
            " 6   charges   1338 non-null   float64\n",
            "dtypes: float64(2), int64(2), object(3)\n",
            "memory usage: 73.3+ KB\n"
          ],
          "name": "stdout"
        }
      ]
    },
    {
      "cell_type": "markdown",
      "metadata": {
        "id": "vAXA_W5LDDE7",
        "colab_type": "text"
      },
      "source": [
        "Após identificar as variáveis(cada tipo tem um objetivo e grafico)\n",
        "\n",
        "### Dados descritivos"
      ]
    },
    {
      "cell_type": "code",
      "metadata": {
        "id": "PB0G2D9F7Qqc",
        "colab_type": "code",
        "colab": {
          "base_uri": "https://localhost:8080/",
          "height": 284
        },
        "outputId": "9b4c48d0-4ba9-4ebb-cd70-63d0619f5424"
      },
      "source": [
        "data.describe()"
      ],
      "execution_count": null,
      "outputs": [
        {
          "output_type": "execute_result",
          "data": {
            "text/html": [
              "<div>\n",
              "<style scoped>\n",
              "    .dataframe tbody tr th:only-of-type {\n",
              "        vertical-align: middle;\n",
              "    }\n",
              "\n",
              "    .dataframe tbody tr th {\n",
              "        vertical-align: top;\n",
              "    }\n",
              "\n",
              "    .dataframe thead th {\n",
              "        text-align: right;\n",
              "    }\n",
              "</style>\n",
              "<table border=\"1\" class=\"dataframe\">\n",
              "  <thead>\n",
              "    <tr style=\"text-align: right;\">\n",
              "      <th></th>\n",
              "      <th>age</th>\n",
              "      <th>bmi</th>\n",
              "      <th>children</th>\n",
              "      <th>charges</th>\n",
              "    </tr>\n",
              "  </thead>\n",
              "  <tbody>\n",
              "    <tr>\n",
              "      <th>count</th>\n",
              "      <td>1338.000000</td>\n",
              "      <td>1338.000000</td>\n",
              "      <td>1338.000000</td>\n",
              "      <td>1338.000000</td>\n",
              "    </tr>\n",
              "    <tr>\n",
              "      <th>mean</th>\n",
              "      <td>39.207025</td>\n",
              "      <td>30.663397</td>\n",
              "      <td>1.094918</td>\n",
              "      <td>13270.422265</td>\n",
              "    </tr>\n",
              "    <tr>\n",
              "      <th>std</th>\n",
              "      <td>14.049960</td>\n",
              "      <td>6.098187</td>\n",
              "      <td>1.205493</td>\n",
              "      <td>12110.011237</td>\n",
              "    </tr>\n",
              "    <tr>\n",
              "      <th>min</th>\n",
              "      <td>18.000000</td>\n",
              "      <td>15.960000</td>\n",
              "      <td>0.000000</td>\n",
              "      <td>1121.873900</td>\n",
              "    </tr>\n",
              "    <tr>\n",
              "      <th>25%</th>\n",
              "      <td>27.000000</td>\n",
              "      <td>26.296250</td>\n",
              "      <td>0.000000</td>\n",
              "      <td>4740.287150</td>\n",
              "    </tr>\n",
              "    <tr>\n",
              "      <th>50%</th>\n",
              "      <td>39.000000</td>\n",
              "      <td>30.400000</td>\n",
              "      <td>1.000000</td>\n",
              "      <td>9382.033000</td>\n",
              "    </tr>\n",
              "    <tr>\n",
              "      <th>75%</th>\n",
              "      <td>51.000000</td>\n",
              "      <td>34.693750</td>\n",
              "      <td>2.000000</td>\n",
              "      <td>16639.912515</td>\n",
              "    </tr>\n",
              "    <tr>\n",
              "      <th>max</th>\n",
              "      <td>64.000000</td>\n",
              "      <td>53.130000</td>\n",
              "      <td>5.000000</td>\n",
              "      <td>63770.428010</td>\n",
              "    </tr>\n",
              "  </tbody>\n",
              "</table>\n",
              "</div>"
            ],
            "text/plain": [
              "               age          bmi     children       charges\n",
              "count  1338.000000  1338.000000  1338.000000   1338.000000\n",
              "mean     39.207025    30.663397     1.094918  13270.422265\n",
              "std      14.049960     6.098187     1.205493  12110.011237\n",
              "min      18.000000    15.960000     0.000000   1121.873900\n",
              "25%      27.000000    26.296250     0.000000   4740.287150\n",
              "50%      39.000000    30.400000     1.000000   9382.033000\n",
              "75%      51.000000    34.693750     2.000000  16639.912515\n",
              "max      64.000000    53.130000     5.000000  63770.428010"
            ]
          },
          "metadata": {
            "tags": []
          },
          "execution_count": 6
        }
      ]
    },
    {
      "cell_type": "markdown",
      "metadata": {
        "id": "G9rGwSrIDVNt",
        "colab_type": "text"
      },
      "source": [
        "Explorando os Dados"
      ]
    },
    {
      "cell_type": "code",
      "metadata": {
        "id": "3vrknhNcDaYN",
        "colab_type": "code",
        "colab": {
          "base_uri": "https://localhost:8080/",
          "height": 474
        },
        "outputId": "c236910d-bae1-4f43-9502-56cc44d28f59"
      },
      "source": [
        "!pip install sweetviz"
      ],
      "execution_count": null,
      "outputs": [
        {
          "output_type": "stream",
          "text": [
            "Collecting sweetviz\n",
            "\u001b[?25l  Downloading https://files.pythonhosted.org/packages/87/8a/a4025101bfc8141e3d9f2fd68b3861183dd165ee632af6bf4d9308c89229/sweetviz-1.0b6-py3-none-any.whl (325kB)\n",
            "\r\u001b[K     |█                               | 10kB 17.7MB/s eta 0:00:01\r\u001b[K     |██                              | 20kB 6.3MB/s eta 0:00:01\r\u001b[K     |███                             | 30kB 7.0MB/s eta 0:00:01\r\u001b[K     |████                            | 40kB 8.1MB/s eta 0:00:01\r\u001b[K     |█████                           | 51kB 6.6MB/s eta 0:00:01\r\u001b[K     |██████                          | 61kB 7.3MB/s eta 0:00:01\r\u001b[K     |███████                         | 71kB 7.5MB/s eta 0:00:01\r\u001b[K     |████████                        | 81kB 7.7MB/s eta 0:00:01\r\u001b[K     |█████████                       | 92kB 7.1MB/s eta 0:00:01\r\u001b[K     |██████████                      | 102kB 7.6MB/s eta 0:00:01\r\u001b[K     |███████████                     | 112kB 7.6MB/s eta 0:00:01\r\u001b[K     |████████████                    | 122kB 7.6MB/s eta 0:00:01\r\u001b[K     |█████████████                   | 133kB 7.6MB/s eta 0:00:01\r\u001b[K     |██████████████                  | 143kB 7.6MB/s eta 0:00:01\r\u001b[K     |███████████████                 | 153kB 7.6MB/s eta 0:00:01\r\u001b[K     |████████████████                | 163kB 7.6MB/s eta 0:00:01\r\u001b[K     |█████████████████▏              | 174kB 7.6MB/s eta 0:00:01\r\u001b[K     |██████████████████▏             | 184kB 7.6MB/s eta 0:00:01\r\u001b[K     |███████████████████▏            | 194kB 7.6MB/s eta 0:00:01\r\u001b[K     |████████████████████▏           | 204kB 7.6MB/s eta 0:00:01\r\u001b[K     |█████████████████████▏          | 215kB 7.6MB/s eta 0:00:01\r\u001b[K     |██████████████████████▏         | 225kB 7.6MB/s eta 0:00:01\r\u001b[K     |███████████████████████▏        | 235kB 7.6MB/s eta 0:00:01\r\u001b[K     |████████████████████████▏       | 245kB 7.6MB/s eta 0:00:01\r\u001b[K     |█████████████████████████▏      | 256kB 7.6MB/s eta 0:00:01\r\u001b[K     |██████████████████████████▏     | 266kB 7.6MB/s eta 0:00:01\r\u001b[K     |███████████████████████████▏    | 276kB 7.6MB/s eta 0:00:01\r\u001b[K     |████████████████████████████▏   | 286kB 7.6MB/s eta 0:00:01\r\u001b[K     |█████████████████████████████▏  | 296kB 7.6MB/s eta 0:00:01\r\u001b[K     |██████████████████████████████▏ | 307kB 7.6MB/s eta 0:00:01\r\u001b[K     |███████████████████████████████▏| 317kB 7.6MB/s eta 0:00:01\r\u001b[K     |████████████████████████████████| 327kB 7.6MB/s \n",
            "\u001b[?25hRequirement already satisfied: jinja2>=2.11.1 in /usr/local/lib/python3.6/dist-packages (from sweetviz) (2.11.2)\n",
            "Collecting tqdm>=4.43.0\n",
            "\u001b[?25l  Downloading https://files.pythonhosted.org/packages/28/7e/281edb5bc3274dfb894d90f4dbacfceaca381c2435ec6187a2c6f329aed7/tqdm-4.48.2-py2.py3-none-any.whl (68kB)\n",
            "\u001b[K     |████████████████████████████████| 71kB 5.1MB/s \n",
            "\u001b[?25hRequirement already satisfied: matplotlib>=3.1.3 in /usr/local/lib/python3.6/dist-packages (from sweetviz) (3.2.2)\n",
            "Requirement already satisfied: numpy>=1.16.0 in /usr/local/lib/python3.6/dist-packages (from sweetviz) (1.18.5)\n",
            "Requirement already satisfied: scipy>=1.3.2 in /usr/local/lib/python3.6/dist-packages (from sweetviz) (1.4.1)\n",
            "Requirement already satisfied: pandas!=1.0.0,!=1.0.1,!=1.0.2,>=0.25.3 in /usr/local/lib/python3.6/dist-packages (from sweetviz) (1.0.5)\n",
            "Collecting importlib-resources>=1.2.0\n",
            "  Downloading https://files.pythonhosted.org/packages/ba/03/0f9595c0c2ef12590877f3c47e5f579759ce5caf817f8256d5dcbd8a1177/importlib_resources-3.0.0-py2.py3-none-any.whl\n",
            "Requirement already satisfied: MarkupSafe>=0.23 in /usr/local/lib/python3.6/dist-packages (from jinja2>=2.11.1->sweetviz) (1.1.1)\n",
            "Requirement already satisfied: kiwisolver>=1.0.1 in /usr/local/lib/python3.6/dist-packages (from matplotlib>=3.1.3->sweetviz) (1.2.0)\n",
            "Requirement already satisfied: cycler>=0.10 in /usr/local/lib/python3.6/dist-packages (from matplotlib>=3.1.3->sweetviz) (0.10.0)\n",
            "Requirement already satisfied: pyparsing!=2.0.4,!=2.1.2,!=2.1.6,>=2.0.1 in /usr/local/lib/python3.6/dist-packages (from matplotlib>=3.1.3->sweetviz) (2.4.7)\n",
            "Requirement already satisfied: python-dateutil>=2.1 in /usr/local/lib/python3.6/dist-packages (from matplotlib>=3.1.3->sweetviz) (2.8.1)\n",
            "Requirement already satisfied: pytz>=2017.2 in /usr/local/lib/python3.6/dist-packages (from pandas!=1.0.0,!=1.0.1,!=1.0.2,>=0.25.3->sweetviz) (2018.9)\n",
            "Requirement already satisfied: zipp>=0.4; python_version < \"3.8\" in /usr/local/lib/python3.6/dist-packages (from importlib-resources>=1.2.0->sweetviz) (3.1.0)\n",
            "Requirement already satisfied: six in /usr/local/lib/python3.6/dist-packages (from cycler>=0.10->matplotlib>=3.1.3->sweetviz) (1.15.0)\n",
            "Installing collected packages: tqdm, importlib-resources, sweetviz\n",
            "  Found existing installation: tqdm 4.41.1\n",
            "    Uninstalling tqdm-4.41.1:\n",
            "      Successfully uninstalled tqdm-4.41.1\n",
            "Successfully installed importlib-resources-3.0.0 sweetviz-1.0b6 tqdm-4.48.2\n"
          ],
          "name": "stdout"
        }
      ]
    },
    {
      "cell_type": "code",
      "metadata": {
        "id": "wp1-rXG7Dkcv",
        "colab_type": "code",
        "colab": {}
      },
      "source": [
        "import sweetviz"
      ],
      "execution_count": null,
      "outputs": []
    },
    {
      "cell_type": "code",
      "metadata": {
        "id": "XhWQ1yWNDoIP",
        "colab_type": "code",
        "colab": {
          "base_uri": "https://localhost:8080/",
          "height": 104
        },
        "outputId": "6d52ceef-c791-4a98-df2c-ccc14136eccb"
      },
      "source": [
        "eda = sweetviz.analyze(data)\n",
        "eda.show_html()"
      ],
      "execution_count": null,
      "outputs": [
        {
          "output_type": "stream",
          "text": [
            ":FEATURES DONE:                    |█████████████████████| [100%]   00:02  -> (00:00 left)\n",
            ":PAIRWISE DONE:                    |█████████████████████| [100%]   00:00  -> (00:00 left)\n"
          ],
          "name": "stderr"
        },
        {
          "output_type": "stream",
          "text": [
            "Creating Associations graph... DONE!\n",
            "Report SWEETVIZ_REPORT.html was generated! NOTEBOOK/COLAB USERS: no browser will pop up, the report is saved in your notebook/colab files.\n"
          ],
          "name": "stdout"
        }
      ]
    },
    {
      "cell_type": "code",
      "metadata": {
        "id": "xDRkKhniFmF3",
        "colab_type": "code",
        "colab": {
          "base_uri": "https://localhost:8080/",
          "height": 104
        },
        "outputId": "d2956ce8-dd75-4997-cbec-326dc37fb74d"
      },
      "source": [
        "eda_alvo = sweetviz.analyze([data,\"Health insurance\"], target_feat=\"charges\")\n",
        "eda_alvo.show_html()"
      ],
      "execution_count": null,
      "outputs": [
        {
          "output_type": "stream",
          "text": [
            ":FEATURES DONE:                    |█████████████████████| [100%]   00:03  -> (00:00 left)\n",
            ":PAIRWISE DONE:                    |█████████████████████| [100%]   00:00  -> (00:00 left)\n"
          ],
          "name": "stderr"
        },
        {
          "output_type": "stream",
          "text": [
            "Creating Associations graph... DONE!\n",
            "Report SWEETVIZ_REPORT.html was generated! NOTEBOOK/COLAB USERS: no browser will pop up, the report is saved in your notebook/colab files.\n"
          ],
          "name": "stdout"
        }
      ]
    },
    {
      "cell_type": "markdown",
      "metadata": {
        "id": "fDvCdjt3K4MN",
        "colab_type": "text"
      },
      "source": [
        "### **4) PREPARAR OS DADOS PARA OS ALGORITMOS DE ML**\n",
        "---\n",
        "variáveis categóricas transformadas para 0 e 1 "
      ]
    },
    {
      "cell_type": "code",
      "metadata": {
        "id": "pM3q3_rLJ55L",
        "colab_type": "code",
        "colab": {}
      },
      "source": [
        "data['sex']=data['sex'].map({'male':1,'female':0})\n",
        "data['smoker']=data['smoker'].map({'yes':1,'no':0})"
      ],
      "execution_count": null,
      "outputs": []
    },
    {
      "cell_type": "code",
      "metadata": {
        "id": "SZP50cOWL7rx",
        "colab_type": "code",
        "colab": {}
      },
      "source": [
        "data0 = pd.get_dummies(data,columns=['region'],drop_first=True) #southern\n",
        "data1 = pd.get_dummies(data,columns=['region'],drop_first=False) #the rest region"
      ],
      "execution_count": null,
      "outputs": []
    },
    {
      "cell_type": "code",
      "metadata": {
        "id": "oxi_GvZTMR1B",
        "colab_type": "code",
        "colab": {}
      },
      "source": [
        "data = data0"
      ],
      "execution_count": null,
      "outputs": []
    },
    {
      "cell_type": "markdown",
      "metadata": {
        "id": "_To9IjVSMYzo",
        "colab_type": "text"
      },
      "source": [
        "### **5) Selecionar e treinar um modelo**"
      ]
    },
    {
      "cell_type": "code",
      "metadata": {
        "id": "HJrOwy-nMYB3",
        "colab_type": "code",
        "colab": {}
      },
      "source": [
        "from sklearn.linear_model import LinearRegression, LogisticRegression\n",
        "from sklearn.tree import DecisionTreeRegressor,DecisionTreeClassifier\n",
        "from sklearn.neighbors import KNeighborsRegressor,KNeighborsClassifier\n",
        "from sklearn.ensemble import RandomForestRegressor,RandomForestClassifier\n",
        "\n",
        "from sklearn.model_selection import cross_val_score\n",
        "from sklearn.model_selection import KFold"
      ],
      "execution_count": null,
      "outputs": []
    },
    {
      "cell_type": "markdown",
      "metadata": {
        "id": "_JLNcMlTOprA",
        "colab_type": "text"
      },
      "source": [
        "Separando as variáveis explicativas da resposta (var)"
      ]
    },
    {
      "cell_type": "code",
      "metadata": {
        "id": "bXkAF9x7Om-K",
        "colab_type": "code",
        "colab": {}
      },
      "source": [
        "X=data.drop('charges',axis=1) #train\n",
        "Y=data['charges'] #expected predict labels"
      ],
      "execution_count": null,
      "outputs": []
    },
    {
      "cell_type": "markdown",
      "metadata": {
        "id": "VLsHBlWIPJNP",
        "colab_type": "text"
      },
      "source": [
        "Validação cruzada Leave One Out"
      ]
    },
    {
      "cell_type": "code",
      "metadata": {
        "id": "ZdSzAhuEPHTR",
        "colab_type": "code",
        "colab": {}
      },
      "source": [
        "kf=KFold(n_splits=5,shuffle=True) #separar conjunto de dados em pedaços"
      ],
      "execution_count": null,
      "outputs": []
    },
    {
      "cell_type": "code",
      "metadata": {
        "id": "_na1snYUPa2f",
        "colab_type": "code",
        "colab": {
          "base_uri": "https://localhost:8080/",
          "height": 34
        },
        "outputId": "7f75e53f-4eae-421e-c40d-4f47aa35cc79"
      },
      "source": [
        "model=LinearRegression()\n",
        "vc=cross_val_score(model,X,Y, cv=kf,scoring='r2')\n",
        "met=round(vc.mean(),4)\n",
        "print('R^2: {:.4f}'.format(met))"
      ],
      "execution_count": null,
      "outputs": [
        {
          "output_type": "stream",
          "text": [
            "R^2: 0.7376\n"
          ],
          "name": "stdout"
        }
      ]
    },
    {
      "cell_type": "code",
      "metadata": {
        "id": "Bo37xRW8QIsm",
        "colab_type": "code",
        "colab": {
          "base_uri": "https://localhost:8080/",
          "height": 34
        },
        "outputId": "c167318f-5371-4dda-bc0e-0f0200de7d94"
      },
      "source": [
        "model = RandomForestRegressor()\n",
        "vc=cross_val_score(model,X,Y, cv=kf,scoring='r2')\n",
        "met=round(vc.mean(),4)\n",
        "print('R^2: {:.4f}'.format(met)) #o melhor"
      ],
      "execution_count": null,
      "outputs": [
        {
          "output_type": "stream",
          "text": [
            "R^2: 0.8375\n"
          ],
          "name": "stdout"
        }
      ]
    },
    {
      "cell_type": "code",
      "metadata": {
        "id": "8pq5vOq8QvUe",
        "colab_type": "code",
        "colab": {
          "base_uri": "https://localhost:8080/",
          "height": 34
        },
        "outputId": "54fc1d27-baea-4de4-f856-6b046ac6f1f5"
      },
      "source": [
        "model = DecisionTreeRegressor(max_depth=5)\n",
        "vc=cross_val_score(model,X,Y, cv=kf,scoring='r2')\n",
        "met=round(vc.mean(),4)\n",
        "print('R^2: {:.4f}'.format(met))"
      ],
      "execution_count": null,
      "outputs": [
        {
          "output_type": "stream",
          "text": [
            "R^2: 0.8459\n"
          ],
          "name": "stdout"
        }
      ]
    },
    {
      "cell_type": "code",
      "metadata": {
        "id": "7HbnC80vRArf",
        "colab_type": "code",
        "colab": {
          "base_uri": "https://localhost:8080/",
          "height": 70
        },
        "outputId": "deba120c-c974-4685-92c4-01484ab58630"
      },
      "source": [
        "from sklearn.model_selection import GridSearchCV #encontrar a melhor solução, quais arvores/parametros, profundidade, vai fazer uma busca, perfomando\n",
        "\n",
        "names=['Regressão Linear', 'Árvore de Decisão', 'KNN','Random Forest']\n",
        "models = [LinearRegression(),DecisionTreeRegressor(),KNeighborsRegressor(),RandomForestRegressor()]\n",
        "parameters=[{},\n",
        "            {'max_depth':np.arange(1,10,1),'min_samples_split':np.arange(30,91,10)},\n",
        "            {'n_neighbors':np.arange(1,60,2)},\n",
        "            {'n_estimators':[100,500],'max_features':['auto','sqrt','log2'],'max_depth':[3,4,5,6,7]}]\n",
        "\n",
        "tuning=[]\n",
        "metrics=[]\n",
        "\n",
        "for i in range(len(names)):\n",
        "  clf=GridSearchCV(models[i],param_grid=parameters[i],cv=kf,scoring='r2')\n",
        "  clf.fit(X,Y)\n",
        "  tuning.append(clf.best_params_)\n",
        "  metrics.append(round(clf.best_score_,4))\n",
        "print(tuning)\n",
        "print(metrics)"
      ],
      "execution_count": null,
      "outputs": [
        {
          "output_type": "stream",
          "text": [
            "[{}, {'max_depth': 4, 'min_samples_split': 30}, {'n_neighbors': 7}, {'max_depth': 4, 'max_features': 'auto', 'n_estimators': 500}]\n",
            "[0.7437, 0.8532, 0.1408, 0.8554]\n"
          ],
          "name": "stdout"
        }
      ]
    },
    {
      "cell_type": "code",
      "metadata": {
        "id": "6GWiDWugUVdv",
        "colab_type": "code",
        "colab": {
          "base_uri": "https://localhost:8080/",
          "height": 166
        },
        "outputId": "64f22a37-8cc4-43c8-e9e7-08aff9bf68e2"
      },
      "source": [
        "pd.DataFrame({'Models':names,'R^2':metrics}).sort_values(by='R^2',ascending=False)"
      ],
      "execution_count": null,
      "outputs": [
        {
          "output_type": "execute_result",
          "data": {
            "text/html": [
              "<div>\n",
              "<style scoped>\n",
              "    .dataframe tbody tr th:only-of-type {\n",
              "        vertical-align: middle;\n",
              "    }\n",
              "\n",
              "    .dataframe tbody tr th {\n",
              "        vertical-align: top;\n",
              "    }\n",
              "\n",
              "    .dataframe thead th {\n",
              "        text-align: right;\n",
              "    }\n",
              "</style>\n",
              "<table border=\"1\" class=\"dataframe\">\n",
              "  <thead>\n",
              "    <tr style=\"text-align: right;\">\n",
              "      <th></th>\n",
              "      <th>Models</th>\n",
              "      <th>R^2</th>\n",
              "    </tr>\n",
              "  </thead>\n",
              "  <tbody>\n",
              "    <tr>\n",
              "      <th>3</th>\n",
              "      <td>Random Forest</td>\n",
              "      <td>0.8554</td>\n",
              "    </tr>\n",
              "    <tr>\n",
              "      <th>1</th>\n",
              "      <td>Árvore de Decisão</td>\n",
              "      <td>0.8532</td>\n",
              "    </tr>\n",
              "    <tr>\n",
              "      <th>0</th>\n",
              "      <td>Regressão Linear</td>\n",
              "      <td>0.7437</td>\n",
              "    </tr>\n",
              "    <tr>\n",
              "      <th>2</th>\n",
              "      <td>KNN</td>\n",
              "      <td>0.1408</td>\n",
              "    </tr>\n",
              "  </tbody>\n",
              "</table>\n",
              "</div>"
            ],
            "text/plain": [
              "              Models     R^2\n",
              "3      Random Forest  0.8554\n",
              "1  Árvore de Decisão  0.8532\n",
              "0   Regressão Linear  0.7437\n",
              "2                KNN  0.1408"
            ]
          },
          "metadata": {
            "tags": []
          },
          "execution_count": 25
        }
      ]
    },
    {
      "cell_type": "code",
      "metadata": {
        "id": "3pY1vcg-VWcg",
        "colab_type": "code",
        "colab": {}
      },
      "source": [
        "imc=X['bmi']"
      ],
      "execution_count": null,
      "outputs": []
    },
    {
      "cell_type": "markdown",
      "metadata": {
        "id": "PhxtIbfbVKXa",
        "colab_type": "text"
      },
      "source": [
        "**Olhando Diferente**\n",
        "\n",
        "Fraude ou não fraude em relação a variável Smoke"
      ]
    },
    {
      "cell_type": "code",
      "metadata": {
        "id": "9GtGxdq-VcPJ",
        "colab_type": "code",
        "colab": {}
      },
      "source": [
        "#separando as variáveis explicativas da váriavel resposta\n",
        "\n",
        "X=data.drop('smoker',axis=1)\n",
        "Y=data['smoker']"
      ],
      "execution_count": null,
      "outputs": []
    },
    {
      "cell_type": "code",
      "metadata": {
        "id": "hT4ZpZpnVwNd",
        "colab_type": "code",
        "colab": {}
      },
      "source": [
        "#validação cruzada Leave One Out\n",
        "\n",
        "kf=KFold(n_splits=10,shuffle=True)"
      ],
      "execution_count": null,
      "outputs": []
    },
    {
      "cell_type": "code",
      "metadata": {
        "id": "lNBaLzHQWr7G",
        "colab_type": "code",
        "colab": {}
      },
      "source": [
        "names=['Regressão Linear', 'Árvore de Decisão', 'KNN','Random Forest']\n",
        "models = [LinearRegression(),DecisionTreeRegressor(),KNeighborsRegressor(),RandomForestRegressor()]\n",
        "parameters=[{},\n",
        "            {'max_depth':np.arange(1,10,1),'min_samples_split':np.arange(30,91,10)},\n",
        "            {'n_neighbors':np.arange(1,60,2)},\n",
        "            {'n_estimators':[100,500],'max_features':['auto','sqrt','log2'],'max_depth':[3,4,5,6,7]}]\n",
        "\n",
        "tuning=[]\n",
        "metrics=[]\n",
        "\n",
        "for i in range(len(names)):\n",
        "  clf=GridSearchCV(models[i],param_grid=parameters[i],cv=kf,scoring='r2')\n",
        "  clf.fit(X,Y)\n",
        "  tuning.append(clf.best_params_)\n",
        "  metrics.append(round(clf.best_score_,4))\n",
        "print(tuning)\n",
        "print(metrics)"
      ],
      "execution_count": null,
      "outputs": []
    }
  ]
}